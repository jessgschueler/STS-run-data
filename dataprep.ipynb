{
 "cells": [
  {
   "cell_type": "code",
   "execution_count": 3,
   "metadata": {},
   "outputs": [],
   "source": [
    "import os\n",
    "import shutil\n",
    "import codecs\n",
    "import chardet\n",
    "import json\n",
    "\n",
    "def run_txt(input_dir, character):\n",
    "    \"\"\"\n",
    "    Renames game generated .run files into .txt files\n",
    "\n",
    "    Args:\n",
    "        input_dir (dir): dir with .run files\n",
    "        character (str): character name\n",
    "    \"\"\"\n",
    "    run = 1\n",
    "    for file in os.listdir(input_dir):\n",
    "        os.rename(f'{input_dir}{file}', f'{input_dir}{character}{run}.txt')\n",
    "        run += 1\n",
    "\n",
    "\n",
    "def run_tojson(input_dir, output_file):\n",
    "    \"\"\"\n",
    "    Input all run.txt files into json file. \n",
    "\n",
    "    Args:\n",
    "        input_dir (dir): dir with run.txt files\n",
    "        output_file (file): empty json file\n",
    "    \"\"\"\n",
    "    #I did not end up using this function, but it does work!\n",
    "    for file in os.listdir(input_dir):\n",
    "        with open(f'{input_dir}{file}', 'r') as input_file:\n",
    "            run_dict = input_file.readlines()\n",
    "            with open(output_file, 'a') as output_json:\n",
    "                json.dump(run_dict, output_json)\n",
    "\n"
   ]
  },
  {
   "cell_type": "code",
   "execution_count": null,
   "metadata": {},
   "outputs": [],
   "source": [
    "def seed_del(input_dir):\n",
    "    \"\"\"\n",
    "    Finds unnecessary data that was causing columns to be off and deletes\n",
    "\n",
    "    Args:\n",
    "        input_dir (dir): dir with .run files\n",
    "    \"\"\"\n",
    "    for file in os.listdir(input_dir):\n",
    "        with open(f'{input_dir}{file}', 'r+') as cleantxt_file:\n",
    "            for line in cleantxt_file:\n",
    "                fileContent = re.sub(',\"special_seed\":0,', ',', line)\n",
    "                cleantxt_file.write(fileContent)\n",
    "\n",
    "seed_del('./silent/')"
   ]
  },
  {
   "cell_type": "code",
   "execution_count": null,
   "metadata": {},
   "outputs": [],
   "source": [
    "def run_totsv(input_dir, output_file):\n",
    "    \"\"\"\n",
    "    Converts run.txt files into TSV file\n",
    "\n",
    "    Args:\n",
    "        input_dir (dir): dir with run.txt files\n",
    "        output_file (file): tsv file\n",
    "    \"\"\"\n",
    "    #creates for loop that loops through files. unfortunately this loop creates a bug where the column names are repeated for every row.\n",
    "    for file in os.listdir(input_dir):\n",
    "        with open(f'{input_dir}{file}', 'r') as input_file:\n",
    "            run_list = input_file.readlines()\n",
    "            #turns list into dictionary\n",
    "            for i in run_list:\n",
    "                run_dict = json.loads(i)\n",
    "                #uses keys as columns\n",
    "                tsv_columns = run_dict.keys()\n",
    "                #uses tabs to separate data\n",
    "                tsv_data = '  '.join(tsv_columns) + '\\n'\n",
    "                new_row = list()\n",
    "                #add data to file\n",
    "                for col in tsv_columns:\n",
    "                    new_row.append(str(run_dict[col]))\n",
    "                tsv_data += '  '.join(new_row) + '\\n'\n",
    "                with open(output_file, 'a') as out_tsv:\n",
    "                    out_tsv.write(tsv_data)\n",
    "\n"
   ]
  },
  {
   "cell_type": "code",
   "execution_count": 11,
   "metadata": {},
   "outputs": [],
   "source": [
    "import re\n",
    "\n",
    "def comma_dash(input_tsv, output_csv):\n",
    "    \"\"\"\n",
    "    Finds all commas in data set and replaces with dashes to not interfere with csv conversion\n",
    "\n",
    "    Args:\n",
    "        input_dir (dir): dir with .run files\n",
    "    \"\"\"\n",
    "    with open(input_tsv, 'r') as tsv_file:  \n",
    "        with open(output_csv, 'w') as csv_file:\n",
    "            for line in tsv_file:\n",
    "                fileContent = re.sub(\" ,\", \"-\", line)\n",
    "                csv_file.write(fileContent)\n",
    "    \n",
    "comma_dash('test.tsv', 'test.csv')"
   ]
  },
  {
   "cell_type": "code",
   "execution_count": 93,
   "metadata": {},
   "outputs": [],
   "source": [
    "def to_csv(input_tsv, output_csv): \n",
    "    \"\"\"\n",
    "    Converts TSV file to CSV file\n",
    "\n",
    "    Args:\n",
    "        input_tsv (file): tsv file\n",
    "        output_csv (file): csv file\n",
    "    \"\"\"\n",
    "    #before this function can be run comma_dash() needs to be run.\n",
    "    with open(input_tsv, 'r') as tsv_file:  \n",
    "        with open(output_csv, 'w') as csv_file:\n",
    "            for line in tsv_file:\n",
    "                fileContent = re.sub(\"  \", \",\", line)\n",
    "                csv_file.write(fileContent)\n"
   ]
  }
 ],
 "metadata": {
  "interpreter": {
   "hash": "d6d3b6cd158249554232ed349af65aa48157abf380a1a57e6f3b13d1541bac37"
  },
  "kernelspec": {
   "display_name": "Python 3.7.13 ('venv': venv)",
   "language": "python",
   "name": "python3"
  },
  "language_info": {
   "codemirror_mode": {
    "name": "ipython",
    "version": 3
   },
   "file_extension": ".py",
   "mimetype": "text/x-python",
   "name": "python",
   "nbconvert_exporter": "python",
   "pygments_lexer": "ipython3",
   "version": "3.7.13"
  },
  "orig_nbformat": 4
 },
 "nbformat": 4,
 "nbformat_minor": 2
}
