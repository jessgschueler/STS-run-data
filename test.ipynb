{
 "cells": [
  {
   "cell_type": "code",
   "execution_count": 34,
   "metadata": {},
   "outputs": [
    {
     "data": {
      "text/plain": [
       "{'floor_reached': '20',\n",
       " 'character_chosen': None,\n",
       " 'victory': True,\n",
       " 'killed_by': None,\n",
       " 'master_deck': None,\n",
       " 'relics': None,\n",
       " 'boss_relics': None,\n",
       " 'score': [],\n",
       " 'playtime': None,\n",
       " 'neow_bonus': None,\n",
       " 'neow_cost': None,\n",
       " 'campfire_rested': None,\n",
       " 'campfire_upgraded': None}"
      ]
     },
     "execution_count": 34,
     "metadata": {},
     "output_type": "execute_result"
    }
   ],
   "source": [
    "import os\n",
    "import shutil\n",
    "import codecs\n",
    "import chardet\n",
    "import json\n",
    "\n",
    "columns = ['floor_reached','character_chosen','victory','killed_by','master_deck','relics','boss_relics','score','playtime','neow_bonus','neow_cost','campfire_rested','campfire_upgraded']\n",
    "\n",
    "test_dict = {'floor_reached': '20', 'victory': True, 'pimple': 'chin', 'score': []}\n",
    "\n",
    "def schema_sort(in_dict):\n",
    "    columns = ['floor_reached','character_chosen','victory','killed_by','master_deck','relics','boss_relics','score','playtime','neow_bonus','neow_cost','campfire_rested','campfire_upgraded']\n",
    "    run_dict = {}\n",
    "    for i in columns:\n",
    "        if i in in_dict.keys():\n",
    "            temp = {i: in_dict[i]}\n",
    "            run_dict.update(temp)\n",
    "        else:\n",
    "            run_dict.update({i:None})\n",
    "    return run_dict\n",
    "\n",
    "\n",
    "schema_sort(test_dict)\n",
    "        "
   ]
  },
  {
   "cell_type": "code",
   "execution_count": 50,
   "metadata": {},
   "outputs": [
    {
     "ename": "AttributeError",
     "evalue": "'str' object has no attribute 'read'",
     "output_type": "error",
     "traceback": [
      "\u001b[0;31m---------------------------------------------------------------------------\u001b[0m",
      "\u001b[0;31mAttributeError\u001b[0m                            Traceback (most recent call last)",
      "\u001b[1;32m/home/jessgschu/STS-run-data/test.ipynb Cell 2'\u001b[0m in \u001b[0;36m<cell line: 9>\u001b[0;34m()\u001b[0m\n\u001b[1;32m      <a href='vscode-notebook-cell://wsl%2Bubuntu/home/jessgschu/STS-run-data/test.ipynb#ch0000002vscode-remote?line=5'>6</a>\u001b[0m         schema_sort(run_dict)\n\u001b[1;32m      <a href='vscode-notebook-cell://wsl%2Bubuntu/home/jessgschu/STS-run-data/test.ipynb#ch0000002vscode-remote?line=6'>7</a>\u001b[0m         \u001b[39mprint\u001b[39m(run_dict)\n\u001b[0;32m----> <a href='vscode-notebook-cell://wsl%2Bubuntu/home/jessgschu/STS-run-data/test.ipynb#ch0000002vscode-remote?line=8'>9</a>\u001b[0m to_dict(\u001b[39m'\u001b[39;49m\u001b[39mtest/\u001b[39;49m\u001b[39m'\u001b[39;49m)\n",
      "\u001b[1;32m/home/jessgschu/STS-run-data/test.ipynb Cell 2'\u001b[0m in \u001b[0;36mto_dict\u001b[0;34m(input_dir)\u001b[0m\n\u001b[1;32m      <a href='vscode-notebook-cell://wsl%2Bubuntu/home/jessgschu/STS-run-data/test.ipynb#ch0000002vscode-remote?line=2'>3</a>\u001b[0m \u001b[39mdef\u001b[39;00m \u001b[39mto_dict\u001b[39m(input_dir):\n\u001b[1;32m      <a href='vscode-notebook-cell://wsl%2Bubuntu/home/jessgschu/STS-run-data/test.ipynb#ch0000002vscode-remote?line=3'>4</a>\u001b[0m     \u001b[39mfor\u001b[39;00m file \u001b[39min\u001b[39;00m os\u001b[39m.\u001b[39mlistdir(input_dir):\n\u001b[0;32m----> <a href='vscode-notebook-cell://wsl%2Bubuntu/home/jessgschu/STS-run-data/test.ipynb#ch0000002vscode-remote?line=4'>5</a>\u001b[0m         run_dict \u001b[39m=\u001b[39m json\u001b[39m.\u001b[39;49mload(\u001b[39mf\u001b[39;49m\u001b[39m'\u001b[39;49m\u001b[39m{\u001b[39;49;00minput_dir\u001b[39m}\u001b[39;49;00m\u001b[39m{\u001b[39;49;00mfile\u001b[39m}\u001b[39;49;00m\u001b[39m'\u001b[39;49m)\n\u001b[1;32m      <a href='vscode-notebook-cell://wsl%2Bubuntu/home/jessgschu/STS-run-data/test.ipynb#ch0000002vscode-remote?line=5'>6</a>\u001b[0m         schema_sort(run_dict)\n\u001b[1;32m      <a href='vscode-notebook-cell://wsl%2Bubuntu/home/jessgschu/STS-run-data/test.ipynb#ch0000002vscode-remote?line=6'>7</a>\u001b[0m         \u001b[39mprint\u001b[39m(run_dict)\n",
      "File \u001b[0;32m/usr/lib/python3.8/json/__init__.py:293\u001b[0m, in \u001b[0;36mload\u001b[0;34m(fp, cls, object_hook, parse_float, parse_int, parse_constant, object_pairs_hook, **kw)\u001b[0m\n\u001b[1;32m    274\u001b[0m \u001b[39mdef\u001b[39;00m \u001b[39mload\u001b[39m(fp, \u001b[39m*\u001b[39m, \u001b[39mcls\u001b[39m\u001b[39m=\u001b[39m\u001b[39mNone\u001b[39;00m, object_hook\u001b[39m=\u001b[39m\u001b[39mNone\u001b[39;00m, parse_float\u001b[39m=\u001b[39m\u001b[39mNone\u001b[39;00m,\n\u001b[1;32m    275\u001b[0m         parse_int\u001b[39m=\u001b[39m\u001b[39mNone\u001b[39;00m, parse_constant\u001b[39m=\u001b[39m\u001b[39mNone\u001b[39;00m, object_pairs_hook\u001b[39m=\u001b[39m\u001b[39mNone\u001b[39;00m, \u001b[39m*\u001b[39m\u001b[39m*\u001b[39mkw):\n\u001b[1;32m    276\u001b[0m     \u001b[39m\"\"\"Deserialize ``fp`` (a ``.read()``-supporting file-like object containing\u001b[39;00m\n\u001b[1;32m    277\u001b[0m \u001b[39m    a JSON document) to a Python object.\u001b[39;00m\n\u001b[1;32m    278\u001b[0m \n\u001b[0;32m   (...)\u001b[0m\n\u001b[1;32m    291\u001b[0m \u001b[39m    kwarg; otherwise ``JSONDecoder`` is used.\u001b[39;00m\n\u001b[1;32m    292\u001b[0m \u001b[39m    \"\"\"\u001b[39;00m\n\u001b[0;32m--> 293\u001b[0m     \u001b[39mreturn\u001b[39;00m loads(fp\u001b[39m.\u001b[39;49mread(),\n\u001b[1;32m    294\u001b[0m         \u001b[39mcls\u001b[39m\u001b[39m=\u001b[39m\u001b[39mcls\u001b[39m, object_hook\u001b[39m=\u001b[39mobject_hook,\n\u001b[1;32m    295\u001b[0m         parse_float\u001b[39m=\u001b[39mparse_float, parse_int\u001b[39m=\u001b[39mparse_int,\n\u001b[1;32m    296\u001b[0m         parse_constant\u001b[39m=\u001b[39mparse_constant, object_pairs_hook\u001b[39m=\u001b[39mobject_pairs_hook, \u001b[39m*\u001b[39m\u001b[39m*\u001b[39mkw)\n",
      "\u001b[0;31mAttributeError\u001b[0m: 'str' object has no attribute 'read'"
     ]
    }
   ],
   "source": [
    "import ast\n",
    "\n",
    "def to_dict(input_dir):\n",
    "    for file in os.listdir(input_dir):\n",
    "        with open(f'{input_dir}{file}', 'r') as input_file:\n",
    "            run_list = input_file.readlines()\n",
    "            for i in run_list:\n",
    "                run_dict = json.load(i)\n",
    "                schema_sort(run_dict)\n",
    "                print(run_dict)\n",
    "\n",
    "to_dict('test/')\n"
   ]
  },
  {
   "cell_type": "code",
   "execution_count": 41,
   "metadata": {},
   "outputs": [
    {
     "ename": "JSONDecodeError",
     "evalue": "Extra data: line 1 column 2305 (char 2304)",
     "output_type": "error",
     "traceback": [
      "\u001b[0;31m---------------------------------------------------------------------------\u001b[0m",
      "\u001b[0;31mJSONDecodeError\u001b[0m                           Traceback (most recent call last)",
      "\u001b[1;32m/home/jessgschu/STS-run-data/test.ipynb Cell 3'\u001b[0m in \u001b[0;36m<cell line: 29>\u001b[0;34m()\u001b[0m\n\u001b[1;32m     <a href='vscode-notebook-cell://wsl%2Bubuntu/home/jessgschu/STS-run-data/test.ipynb#ch0000001vscode-remote?line=25'>26</a>\u001b[0m                 \u001b[39mwith\u001b[39;00m \u001b[39mopen\u001b[39m(output_file, \u001b[39m'\u001b[39m\u001b[39ma\u001b[39m\u001b[39m'\u001b[39m) \u001b[39mas\u001b[39;00m out_tsv:\n\u001b[1;32m     <a href='vscode-notebook-cell://wsl%2Bubuntu/home/jessgschu/STS-run-data/test.ipynb#ch0000001vscode-remote?line=26'>27</a>\u001b[0m                     out_tsv\u001b[39m.\u001b[39mwrite(tsv_data)\n\u001b[0;32m---> <a href='vscode-notebook-cell://wsl%2Bubuntu/home/jessgschu/STS-run-data/test.ipynb#ch0000001vscode-remote?line=28'>29</a>\u001b[0m run_totsv(\u001b[39m'\u001b[39;49m\u001b[39mRUNS/\u001b[39;49m\u001b[39m'\u001b[39;49m, \u001b[39m'\u001b[39;49m\u001b[39mruns.tsv\u001b[39;49m\u001b[39m'\u001b[39;49m)\n",
      "\u001b[1;32m/home/jessgschu/STS-run-data/test.ipynb Cell 3'\u001b[0m in \u001b[0;36mrun_totsv\u001b[0;34m(input_dir, output_file)\u001b[0m\n\u001b[1;32m     <a href='vscode-notebook-cell://wsl%2Bubuntu/home/jessgschu/STS-run-data/test.ipynb#ch0000001vscode-remote?line=12'>13</a>\u001b[0m \u001b[39m#turns list into dictionary\u001b[39;00m\n\u001b[1;32m     <a href='vscode-notebook-cell://wsl%2Bubuntu/home/jessgschu/STS-run-data/test.ipynb#ch0000001vscode-remote?line=13'>14</a>\u001b[0m \u001b[39mfor\u001b[39;00m i \u001b[39min\u001b[39;00m run_list:\n\u001b[0;32m---> <a href='vscode-notebook-cell://wsl%2Bubuntu/home/jessgschu/STS-run-data/test.ipynb#ch0000001vscode-remote?line=14'>15</a>\u001b[0m     input_dict \u001b[39m=\u001b[39m json\u001b[39m.\u001b[39;49mloads(i)\n\u001b[1;32m     <a href='vscode-notebook-cell://wsl%2Bubuntu/home/jessgschu/STS-run-data/test.ipynb#ch0000001vscode-remote?line=15'>16</a>\u001b[0m     run_dict \u001b[39m=\u001b[39m schema_sort(input_dict)\n\u001b[1;32m     <a href='vscode-notebook-cell://wsl%2Bubuntu/home/jessgschu/STS-run-data/test.ipynb#ch0000001vscode-remote?line=16'>17</a>\u001b[0m     \u001b[39m#uses keys as columns\u001b[39;00m\n",
      "File \u001b[0;32m/usr/lib/python3.8/json/__init__.py:357\u001b[0m, in \u001b[0;36mloads\u001b[0;34m(s, cls, object_hook, parse_float, parse_int, parse_constant, object_pairs_hook, **kw)\u001b[0m\n\u001b[1;32m    352\u001b[0m     \u001b[39mdel\u001b[39;00m kw[\u001b[39m'\u001b[39m\u001b[39mencoding\u001b[39m\u001b[39m'\u001b[39m]\n\u001b[1;32m    354\u001b[0m \u001b[39mif\u001b[39;00m (\u001b[39mcls\u001b[39m \u001b[39mis\u001b[39;00m \u001b[39mNone\u001b[39;00m \u001b[39mand\u001b[39;00m object_hook \u001b[39mis\u001b[39;00m \u001b[39mNone\u001b[39;00m \u001b[39mand\u001b[39;00m\n\u001b[1;32m    355\u001b[0m         parse_int \u001b[39mis\u001b[39;00m \u001b[39mNone\u001b[39;00m \u001b[39mand\u001b[39;00m parse_float \u001b[39mis\u001b[39;00m \u001b[39mNone\u001b[39;00m \u001b[39mand\u001b[39;00m\n\u001b[1;32m    356\u001b[0m         parse_constant \u001b[39mis\u001b[39;00m \u001b[39mNone\u001b[39;00m \u001b[39mand\u001b[39;00m object_pairs_hook \u001b[39mis\u001b[39;00m \u001b[39mNone\u001b[39;00m \u001b[39mand\u001b[39;00m \u001b[39mnot\u001b[39;00m kw):\n\u001b[0;32m--> 357\u001b[0m     \u001b[39mreturn\u001b[39;00m _default_decoder\u001b[39m.\u001b[39;49mdecode(s)\n\u001b[1;32m    358\u001b[0m \u001b[39mif\u001b[39;00m \u001b[39mcls\u001b[39m \u001b[39mis\u001b[39;00m \u001b[39mNone\u001b[39;00m:\n\u001b[1;32m    359\u001b[0m     \u001b[39mcls\u001b[39m \u001b[39m=\u001b[39m JSONDecoder\n",
      "File \u001b[0;32m/usr/lib/python3.8/json/decoder.py:340\u001b[0m, in \u001b[0;36mJSONDecoder.decode\u001b[0;34m(self, s, _w)\u001b[0m\n\u001b[1;32m    338\u001b[0m end \u001b[39m=\u001b[39m _w(s, end)\u001b[39m.\u001b[39mend()\n\u001b[1;32m    339\u001b[0m \u001b[39mif\u001b[39;00m end \u001b[39m!=\u001b[39m \u001b[39mlen\u001b[39m(s):\n\u001b[0;32m--> 340\u001b[0m     \u001b[39mraise\u001b[39;00m JSONDecodeError(\u001b[39m\"\u001b[39m\u001b[39mExtra data\u001b[39m\u001b[39m\"\u001b[39m, s, end)\n\u001b[1;32m    341\u001b[0m \u001b[39mreturn\u001b[39;00m obj\n",
      "\u001b[0;31mJSONDecodeError\u001b[0m: Extra data: line 1 column 2305 (char 2304)"
     ]
    }
   ],
   "source": [
    "def run_totsv(input_dir, output_file):\n",
    "    \"\"\"\n",
    "    Converts run.txt files into TSV file\n",
    "\n",
    "    Args:\n",
    "        input_dir (dir): dir with run.txt files\n",
    "        output_file (file): tsv file\n",
    "    \"\"\"\n",
    "    #creates for loop that loops through files. unfortunately this loop creates a bug where the column names are repeated for every row.\n",
    "    for file in os.listdir(input_dir):\n",
    "        with open(f'{input_dir}{file}', 'r') as input_file:\n",
    "            run_list = input_file.readlines()\n",
    "            #turns list into dictionary\n",
    "            for i in run_list:\n",
    "                input_dict = json.loads(i)\n",
    "                run_dict = schema_sort(input_dict)\n",
    "                #uses keys as columns\n",
    "                tsv_columns = run_dict.keys()\n",
    "                #uses tabs to separate data\n",
    "                tsv_data = '  '.join(tsv_columns) + '\\n'\n",
    "                new_row = list()\n",
    "                #add data to file\n",
    "                for col in tsv_columns:\n",
    "                    new_row.append(str(run_dict[col]))\n",
    "                tsv_data += '  '.join(new_row) + '\\n'\n",
    "                with open(output_file, 'a') as out_tsv:\n",
    "                    out_tsv.write(tsv_data)\n",
    "\n",
    "run_totsv('RUNS/', 'runs.tsv')"
   ]
  },
  {
   "cell_type": "code",
   "execution_count": 54,
   "metadata": {},
   "outputs": [
    {
     "data": {
      "text/plain": [
       "{'floor_reached': None,\n",
       " 'character_chosen': None,\n",
       " 'victory': None,\n",
       " 'killed_by': None,\n",
       " 'master_deck': None,\n",
       " 'relics': None,\n",
       " 'boss_relics': None,\n",
       " 'score': None,\n",
       " 'playtime': None,\n",
       " 'neow_bonus': None,\n",
       " 'neow_cost': None,\n",
       " 'campfire_rested': None,\n",
       " 'campfire_upgraded': None}"
      ]
     },
     "execution_count": 54,
     "metadata": {},
     "output_type": "execute_result"
    }
   ],
   "source": [
    "import json\n",
    "\n",
    "\n",
    "# the file to be converted to\n",
    "# json format\n",
    "filename = 'test/silent42.txt'\n",
    "\n",
    "# dictionary where the lines from\n",
    "# text will be stored\n",
    "dict1 = {}\n",
    "\n",
    "# creating dictionary\n",
    "with open(filename) as fh:\n",
    "\n",
    "\tfor line in fh:\n",
    "\n",
    "\t\t# reads each line and trims of extra the spaces\n",
    "\t\t# and gives only the valid words\n",
    "\t\tcommand, description = line.strip().split(None, 1)\n",
    "\n",
    "\t\tdict1[command] = description.strip()\n",
    "schema_sort(dict1)\n",
    "# # creating json file\n",
    "# # the JSON file is named as test1\n",
    "# out_file = open(\"test1.json\", \"w\")\n",
    "# json.dump(dict1, out_file, indent = 4, sort_keys = False)\n",
    "# out_file.close()\n"
   ]
  },
  {
   "cell_type": "code",
   "execution_count": 59,
   "metadata": {},
   "outputs": [],
   "source": [
    "def to_dict_final(input_dir):\n",
    "    for file in os.listdir(input_dir):\n",
    "        with open(f'{input_dir}{file}', 'r') as input_file:\n",
    "            run_list = input_file.readlines()\n",
    "            for i in run_list:\n",
    "                run_dict = json.loads(i)\n",
    "            # tsv_columns = run_dict.keys()\n",
    "            # tsv_data = '  '.join(tsv_columns) + '\\\\n'\n",
    "            # new_row = list()\n",
    "            # for col in tsv_columns:\n",
    "            #     new_row.append(str(run_dict[col]))\n",
    "            # tsv_data += '  '.join(new_row) + '\\\\n'\n",
    "            # with open(output_file, 'a') as out_tsv:\n",
    "            #     out_tsv.write(tsv_data)\n",
    "\n",
    "to_dict_final('test/')"
   ]
  }
 ],
 "metadata": {
  "kernelspec": {
   "display_name": "Python 3.8.10 64-bit",
   "language": "python",
   "name": "python3"
  },
  "language_info": {
   "codemirror_mode": {
    "name": "ipython",
    "version": 3
   },
   "file_extension": ".py",
   "mimetype": "text/x-python",
   "name": "python",
   "nbconvert_exporter": "python",
   "pygments_lexer": "ipython3",
   "version": "3.8.10"
  },
  "orig_nbformat": 4,
  "vscode": {
   "interpreter": {
    "hash": "916dbcbb3f70747c44a77c7bcd40155683ae19c65e1c03b4aa3499c5328201f1"
   }
  }
 },
 "nbformat": 4,
 "nbformat_minor": 2
}
