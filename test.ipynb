{
 "cells": [
  {
   "cell_type": "code",
   "execution_count": 6,
   "metadata": {},
   "outputs": [
    {
     "data": {
      "text/plain": [
       "{'floor_reached': '20',\n",
       " 'character_chosen': None,\n",
       " 'victory': True,\n",
       " 'killed_by': None,\n",
       " 'master_deck': None,\n",
       " 'relics': None,\n",
       " 'boss_relics': None,\n",
       " 'score': None,\n",
       " 'playtime': None,\n",
       " 'neow_bonus': None,\n",
       " 'neow_cost': None,\n",
       " 'campfire_rested': None,\n",
       " 'campfire_upgraded': None}"
      ]
     },
     "execution_count": 6,
     "metadata": {},
     "output_type": "execute_result"
    }
   ],
   "source": [
    "import os\n",
    "import shutil\n",
    "import codecs\n",
    "import chardet\n",
    "import json\n",
    "\n",
    "columns = ['floor_reached','character_chosen','victory','killed_by','master_deck','relics','boss_relics','score','playtime','neow_bonus','neow_cost','campfire_rested','campfire_upgraded']\n",
    "\n",
    "test_dict = {'floor_reached': '20', 'victory': True, 'pimple': 'chin'}\n",
    "\n",
    "def schema_sort(in_dict):\n",
    "    columns = ['floor_reached','character_chosen','victory','killed_by','master_deck','relics','boss_relics','score','playtime','neow_bonus','neow_cost','campfire_rested','campfire_upgraded']\n",
    "    run_dict = {}\n",
    "    for i in columns:\n",
    "        if i in in_dict.keys():\n",
    "            temp = {i: in_dict[i]}\n",
    "            run_dict.update(temp)\n",
    "        else:\n",
    "            run_dict.update({i:None})\n",
    "    return run_dict\n",
    "\n",
    "\n",
    "schema_sort(test_dict)\n",
    "        "
   ]
  },
  {
   "cell_type": "code",
   "execution_count": null,
   "metadata": {},
   "outputs": [],
   "source": [
    "def run_totsv(input_dir, output_file):\n",
    "    \"\"\"\n",
    "    Converts run.txt files into TSV file\n",
    "\n",
    "    Args:\n",
    "        input_dir (dir): dir with run.txt files\n",
    "        output_file (file): tsv file\n",
    "    \"\"\"\n",
    "    #creates for loop that loops through files. unfortunately this loop creates a bug where the column names are repeated for every row.\n",
    "    for file in os.listdir(input_dir):\n",
    "        with open(f'{input_dir}{file}', 'r') as input_file:\n",
    "            run_list = input_file.readlines()\n",
    "            #turns list into dictionary\n",
    "            for i in run_list:\n",
    "                input_dict = json.loads(i)\n",
    "                run_dict = schema_sort(input_dict)\n",
    "                #uses keys as columns\n",
    "                tsv_columns = run_dict.keys()\n",
    "                #uses tabs to separate data\n",
    "                tsv_data = '  '.join(tsv_columns) + '\\n'\n",
    "                new_row = list()\n",
    "                #add data to file\n",
    "                for col in tsv_columns:\n",
    "                    new_row.append(str(run_dict[col]))\n",
    "                tsv_data += '  '.join(new_row) + '\\n'\n",
    "                with open(output_file, 'a') as out_tsv:\n",
    "                    out_tsv.write(tsv_data)\n",
    "\n"
   ]
  }
 ],
 "metadata": {
  "kernelspec": {
   "display_name": "Python 3.8.10 64-bit",
   "language": "python",
   "name": "python3"
  },
  "language_info": {
   "codemirror_mode": {
    "name": "ipython",
    "version": 3
   },
   "file_extension": ".py",
   "mimetype": "text/x-python",
   "name": "python",
   "nbconvert_exporter": "python",
   "pygments_lexer": "ipython3",
   "version": "3.8.10"
  },
  "orig_nbformat": 4,
  "vscode": {
   "interpreter": {
    "hash": "916dbcbb3f70747c44a77c7bcd40155683ae19c65e1c03b4aa3499c5328201f1"
   }
  }
 },
 "nbformat": 4,
 "nbformat_minor": 2
}
