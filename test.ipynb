{
 "cells": [
  {
   "cell_type": "code",
   "execution_count": 41,
   "metadata": {},
   "outputs": [
    {
     "name": "stdout",
     "output_type": "stream",
     "text": [
      "{'encoding': 'ascii', 'confidence': 1.0, 'language': ''}\n"
     ]
    }
   ],
   "source": [
    "import os\n",
    "import shutil\n",
    "import codecs\n",
    "import chardet\n",
    "import json\n",
    "\n",
    "def run_txt(input_dir):\n",
    "    run = 1\n",
    "    for file in os.listdir(input_dir):\n",
    "        os.rename(f'./defect/{file}', f'./defect/defect{run}.txt')\n",
    "        run += 1\n",
    "\n",
    "def run_tojson(input_dir, output_file):\n",
    "    for file in os.listdir(input_dir):\n",
    "        with open(f'./defect/{file}', 'r') as input_file:\n",
    "            run_dict = input_file.readlines()\n",
    "            with open(output_file, 'a') as output_json:\n",
    "                json.dump(run_dict, output_json)\n",
    "\n",
    "run_tojson('./defect/', './defect_runs.json')\n",
    "\n",
    "\n",
    "\n",
    "\n"
   ]
  }
 ],
 "metadata": {
  "language_info": {
   "name": "python"
  },
  "orig_nbformat": 4
 },
 "nbformat": 4,
 "nbformat_minor": 2
}
