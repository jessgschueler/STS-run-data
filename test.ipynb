{
 "cells": [
  {
   "cell_type": "code",
   "execution_count": 45,
   "metadata": {},
   "outputs": [],
   "source": [
    "import os\n",
    "import shutil\n",
    "import codecs\n",
    "import chardet\n",
    "import json\n",
    "\n",
    "def run_txt(input_dir, character):\n",
    "    run = 1\n",
    "    for file in os.listdir(input_dir):\n",
    "        os.rename(f'{input_dir}{file}', f'{input_dir}{character}{run}.txt')\n",
    "        run += 1\n",
    "\n",
    "run_txt('./watcher/', 'watcher')\n",
    "\n",
    "def run_tojson(input_dir, output_file):\n",
    "    for file in os.listdir(input_dir):\n",
    "        with open(f'{input_dir}{file}', 'r') as input_file:\n",
    "            run_dict = input_file.readlines()\n",
    "            with open(output_file, 'a') as output_json:\n",
    "                json.dump(run_dict, output_json)\n",
    "\n",
    "run_tojson('./watcher/', './watcher_runs.json')\n",
    "\n",
    "\n",
    "\n",
    "\n"
   ]
  }
 ],
 "metadata": {
  "language_info": {
   "name": "python"
  },
  "orig_nbformat": 4
 },
 "nbformat": 4,
 "nbformat_minor": 2
}
